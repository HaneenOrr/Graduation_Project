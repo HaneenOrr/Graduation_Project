{
 "cells": [
  {
   "cell_type": "code",
   "execution_count": 1,
   "metadata": {},
   "outputs": [
    {
     "name": "stdout",
     "output_type": "stream",
     "text": [
      "10 54 1481 1392\n",
      "Amr Essam Mohamed Barakat\n",
      "+2 0101 078 3592\n",
      "amr.essam95 @ hotmail.com\n",
      "\n",
      " \n",
      " \n",
      "\n",
      "Objective:\n",
      "\n",
      "Making people’s lives easier through technology\n",
      "\n",
      "Education:\n",
      "e Studying Electrical Engineering, Computer Department, Ain Shams University (3rd year)\n",
      "e High School Degree from English Language School, Cairo, Egypt.\n",
      "\n",
      "Summer Trainings & Workshops:\n",
      "e ITWORX training in Big data, 2017\n",
      "e Petrobel training in Database, 2016\n",
      "e Marketing workshop and case study by ExxonMobil, 2015\n",
      "e HR workshop and case study by Exxon Mobil, 2014\n",
      "\n",
      "Student Activities:\n",
      "\n",
      "e IT member in ACES (Annual Conference for Engineering Students), 2017\n",
      "e PR member in React (first student activity in Alsun Ain Shams), 2015\n",
      "\n",
      "Technical Skills:\n",
      "\n",
      "Programming in C, C++, J ava, Python, Assembly\n",
      "Backend Web development using Django framework\n",
      "Data Structures and Algorithms\n",
      "\n",
      "Big Data using Hadoop (Map Reduce, Pig, Hive, Sqoop)\n",
      "Working with Linux environment\n",
      "\n",
      "Working with git\n",
      "\n",
      "Parallel programming using OpenMP\n",
      "\n",
      "CCNP knowledge\n",
      "\n",
      "Digital design using Verilog\n",
      "\n",
      "Personal Skills:\n",
      "e Team player & Leader\n",
      "e High leveled communicator with colleagues at different levels\n",
      "e Innovative and Self-starter\n",
      "\n",
      "Other Skills:\n",
      "\n",
      "e Languages: Arabic (mother tongue), English(fluent)\n",
      "e Computer Skills: Microsoft Office (Word, Excel, PowerP oint)\n",
      "\n",
      "Personal Information:\n",
      "\n",
      "Mobile: +2 0101 078 3592\n",
      "\n",
      "Email: amr.essam95@ hotmail.com\n",
      "\n",
      "Nationality: Egyptian\n",
      "\n",
      "Data of Birth: 25th, August 1995\n",
      "\n",
      "Address: South of academy villa 84 B, 5th settlement, Cairo, Egypt\n",
      "LinkedIn account: linkedin.com/in/amr-essam-15b228128\n"
     ]
    },
    {
     "data": {
      "text/plain": [
       "13"
      ]
     },
     "execution_count": 1,
     "metadata": {},
     "output_type": "execute_result"
    }
   ],
   "source": [
    "import cv2\n",
    "import re\n",
    "import numpy as np\n",
    "from PIL import Image\n",
    "import pytesseract\n",
    "from pytesseract import image_to_string\n",
    "\n",
    "img = cv2.imread('./cv/c2.jpg')\n",
    "width = int(1500)\n",
    "height = int(1500)\n",
    "dim = (width, height)\n",
    "# resize image\n",
    "image = cv2.resize(img, dim, interpolation = cv2.INTER_AREA)\n",
    "\n",
    "gray = cv2.cvtColor(image,cv2.COLOR_BGR2GRAY)\n",
    "cv2.imshow('gray',gray)\n",
    "cv2.waitKey(0)\n",
    "\n",
    "ret,thresh = cv2.threshold(gray,180,255,cv2.THRESH_BINARY_INV)\n",
    "cv2.imshow('second',thresh)\n",
    "cv2.waitKey(0)\n",
    "\n",
    "kernel = np.ones((11,100), np.uint8)\n",
    "img_dilation = cv2.dilate(thresh, kernel, iterations=1)\n",
    "cv2.imshow('dilated',img_dilation)\n",
    "cv2.waitKey(0)\n",
    "\n",
    "im2,ctrs, hier = cv2.findContours(img_dilation.copy(), cv2.RETR_EXTERNAL, cv2.CHAIN_APPROX_SIMPLE)\n",
    "#ctrs = sorted(ctrs, key = cv2.contourArea, reverse = True)[:5]       \n",
    "            \n",
    "yy=[]       \n",
    "for i, ctr in enumerate(ctrs):\n",
    "    \n",
    "    x, y, w, h = cv2.boundingRect(ctr)\n",
    "    roi = image[y:y+h, x:x+w]\n",
    "    print(x,y,w,h)\n",
    "\n",
    "    cv2.imshow('segment no:'+str(i),roi)\n",
    "    cv2.imwrite(\"segment_no_\"+str(i)+\".png\",roi)\n",
    "   # print(x+w,y+h)\n",
    "    #grayscale\n",
    "    img = cv2.imread('segment_no_'+str(i)+\".png\")\n",
    "    gray = cv2.cvtColor(img,cv2.COLOR_BGR2GRAY)\n",
    "    #binary\n",
    "    ret,thresh = cv2.threshold(gray,127,255,cv2.THRESH_BINARY_INV)\n",
    "     \n",
    "    img2=Image.open('segment_no_'+str(i)+\".png\")\n",
    "    out=image_to_string(img2)\n",
    "    print(out)\n",
    "    #Extracurricular activities\n",
    "    for z in range (0,1):\n",
    "        if(re.search('EDUCATION:',out)\n",
    "            or re.search('WORK EXPERIENCE',out) or re.search('SKILLS',out) \n",
    "            or re.search('HOBBIES',out)\n",
    "             ):\n",
    "            yy.append(y)\n",
    "            #cv2.rectangle(image,(x,y),( x + 660, y + 72 ),(90,0,255),2)\n",
    "            #crop = image[y:y+72, x:x+660]\n",
    "            out=image_to_string(img2)\n",
    "            print (yy)\n",
    "            print(out)\n",
    "            cv2.waitKey(0)\n",
    "\n",
    "yy.sort()\n",
    "for c in range (len(yy)-1):\n",
    "    cv2.rectangle(image,(10,yy[c]),( x + 1000, yy[c+1]-7 ),(90,0,255),2)\n",
    "    crop = image[y:yy[c+1]-7, x:x+1000]\n",
    "    cv2.imshow('after no:'+str(c),crop)\n",
    "    cv2.imwrite(\"after\"+str(c)+\".png\",crop)\n",
    "    img = cv2.imread('after'+str(i)+\".png\")\n",
    "    \n",
    "    cv2.waitKey(0)\n",
    "    \n",
    "cv2.imwrite('yousef.png',image)\n",
    "cv2.imshow('marked areas',image)\n",
    "cv2.waitKey(0)\n",
    "\n"
   ]
  },
  {
   "cell_type": "code",
   "execution_count": null,
   "metadata": {},
   "outputs": [],
   "source": [
    " for i, ctr in enumerate(ctrs):\n",
    "    \n",
    "    x, y, w, h = cv2.boundingRect(ctr)\n",
    "    roi = image[y:y+h, x:x+w]\n",
    "    print(x,y,w,h)\n",
    "\n",
    "    cv2.imshow('segment no:'+str(i),roi)\n",
    "    cv2.imwrite(\"segment_no_\"+str(i)+\".png\",roi)\n",
    "   # print(x+w,y+h)\n",
    "    #grayscale\n",
    "    img = cv2.imread('segment_no_'+str(i)+\".png\")\n",
    "    gray = cv2.cvtColor(img,cv2.COLOR_BGR2GRAY)\n",
    "    #binary\n",
    "    ret,thresh = cv2.threshold(gray,127,255,cv2.THRESH_BINARY_INV)\n",
    "     \n",
    "        "
   ]
  },
  {
   "cell_type": "code",
   "execution_count": 29,
   "metadata": {
    "scrolled": true
   },
   "outputs": [
    {
     "name": "stdout",
     "output_type": "stream",
     "text": [
      "<re.Match object; span=(820, 829), match='EDUCATION'>\n"
     ]
    }
   ],
   "source": [
    "import re\n",
    "with open('data.txt', 'r') as myfile:\n",
    "   # l=[]\n",
    "    data = myfile.read()\n",
    "    result=re.search('EDUCATION',data)\n",
    "    print(result)\n",
    "    #l.append(result)\n",
    "    #print(l)\n",
    "    #print (data)"
   ]
  },
  {
   "cell_type": "code",
   "execution_count": null,
   "metadata": {
    "scrolled": true
   },
   "outputs": [],
   "source": []
  },
  {
   "cell_type": "code",
   "execution_count": null,
   "metadata": {},
   "outputs": [],
   "source": []
  },
  {
   "cell_type": "code",
   "execution_count": null,
   "metadata": {},
   "outputs": [],
   "source": []
  }
 ],
 "metadata": {
  "kernelspec": {
   "display_name": "Python 3",
   "language": "python",
   "name": "python3"
  },
  "language_info": {
   "codemirror_mode": {
    "name": "ipython",
    "version": 3
   },
   "file_extension": ".py",
   "mimetype": "text/x-python",
   "name": "python",
   "nbconvert_exporter": "python",
   "pygments_lexer": "ipython3",
   "version": "3.7.3"
  }
 },
 "nbformat": 4,
 "nbformat_minor": 2
}
